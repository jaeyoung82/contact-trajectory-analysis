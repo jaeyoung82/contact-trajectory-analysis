{
 "cells": [
  {
   "cell_type": "code",
   "execution_count": null,
   "id": "f11d869a",
   "metadata": {},
   "outputs": [],
   "source": [
    "import pandas as pd\n",
    "import numpy as np\n",
    "from scipy.optimize import curve_fit\n",
    "import matplotlib.pyplot as plt\n",
    "%matplotlib inline\n"
   ]
  },
  {
   "cell_type": "code",
   "execution_count": null,
   "id": "25f5c3d7",
   "metadata": {},
   "outputs": [],
   "source": [
    "readfile_name1 = \"compare_parallel_confined_count_all.txt\"\n",
    "print (\"read \", readfile_name1)\n",
    "columns_1 = [\"type\", \"count_parallel\", \"count_confined\"]\n",
    "record_1 = pd.read_csv(readfile_name1, sep= \"\\t\", names = columns_1, skiprows = 1) \n",
    "#\n",
    "readfile_name2 = \"compare_nonparallel_ballistic_count_all.txt\"\n",
    "print (\"read \", readfile_name1)\n",
    "columns_2 = [\"type\", \"count_all\", \"count_nonparallel\", \"count_ballistic\"]\n",
    "record_2 = pd.read_csv(readfile_name2, sep= \"\\t\", names = columns_2, skiprows = 1) "
   ]
  },
  {
   "cell_type": "code",
   "execution_count": null,
   "id": "9f746fc0",
   "metadata": {},
   "outputs": [],
   "source": [
    "marker_set = [\"x\", \"^\", \"s\", \"D\", \"o\"]\n",
    "color_set  = [\"c\", \"g\", \"b\", \"k\", \"r\"]\n",
    "type_set = record_1[\"type\"].unique()\n",
    "#\n",
    "n_columns = 1\n",
    "n_rows    = 1   \n",
    "subplot_x = 6.0\n",
    "subplot_y = 5.0\n",
    "figsize_x = subplot_x*n_columns\n",
    "figsize_y = subplot_y*n_rows\n",
    "fig = plt.figure(figsize = (figsize_x, figsize_y))      \n",
    "ax = fig.add_subplot(1, 1, 1)\n",
    "#\n",
    "for i in range (0, len(type_set)):\n",
    "    type_i = type_set[i]\n",
    "    record_i = record_1[(record_1[\"type\"]==type_i)]\n",
    "    count_parallel = record_i[\"count_parallel\"]\n",
    "    count_confined = record_i[\"count_confined\"]\n",
    "    #\n",
    "    if (i == 0):\n",
    "        plt.scatter(count_parallel, count_confined, s=150, edgecolors=color_set[i], marker = marker_set[i], linewidths=2, alpha=.7)\n",
    "    else:\n",
    "        plt.scatter(count_parallel, count_confined, s=150, facecolors='none', edgecolors=color_set[i], marker = marker_set[i], linewidths=2, alpha=.7)        \n",
    "#\n",
    "plt.xticks(np.arange(0, 60001, 15000))\n",
    "plt.yticks(np.arange(0, 45001, 15000))\n",
    "plt.xticks(fontsize=14)\n",
    "plt.yticks(fontsize=14)\n",
    "plt.xlabel(\"parallel contact count\", fontsize=18)\n",
    "plt.ylabel(\"confined motion count\", fontsize=18)\n",
    "plt.legend([\"uni\", \"bi\", \"2-way\", \"3-way\", \"4-way\"], loc='lower right', fontsize=12) "
   ]
  },
  {
   "cell_type": "code",
   "execution_count": null,
   "id": "b9903e27",
   "metadata": {},
   "outputs": [],
   "source": [
    "readfile_name3 = \"compare_parallel_confined_tc_all.txt\"\n",
    "print (\"read \", readfile_name3)\n",
    "columns_3 = [\"type\", \"scenario\", \"count_all\", \"count_parallel\", \"count_ballistic\", \"count_confined\", \"tc_confined\", \"tc_all\"]\n",
    "record_3 = pd.read_csv(readfile_name3, sep= \"\\t\", names = columns_3, skiprows = 1) "
   ]
  },
  {
   "cell_type": "code",
   "execution_count": null,
   "id": "e3873b76",
   "metadata": {},
   "outputs": [],
   "source": [
    "#\n",
    "marker_set = [\"x\", \"^\", \"s\", \"D\", \"o\"]\n",
    "color_set  = [\"c\", \"g\", \"b\", \"k\", \"r\"]\n",
    "type_set = record_3[\"type\"].unique()\n",
    "#\n",
    "n_columns = 1\n",
    "n_rows    = 1   \n",
    "subplot_x = 6.0\n",
    "subplot_y = 5.0\n",
    "figsize_x = subplot_x*n_columns\n",
    "figsize_y = subplot_y*n_rows\n",
    "fig = plt.figure(figsize = (figsize_x, figsize_y))      \n",
    "ax = fig.add_subplot(1, 1, 1)\n",
    "#\n",
    "for i in range (0, len(type_set)):\n",
    "    type_i = type_set[i]\n",
    "    record_i = record_3[(record_3[\"type\"]==type_i)]\n",
    "    count_confined = record_i[\"count_confined\"]\n",
    "    tc_confined = record_i[\"tc_confined\"]\n",
    "    #\n",
    "    if (i == 0):\n",
    "        plt.scatter(count_confined, tc_confined, s=150, edgecolors=color_set[i], marker = marker_set[i], linewidths=2, alpha=.7)\n",
    "    else:\n",
    "        plt.scatter(count_confined, tc_confined, s=150, facecolors='none', edgecolors=color_set[i], marker = marker_set[i], linewidths=2, alpha=.7)        \n",
    "#\n",
    "plt.xticks(np.arange(0, 45001, 15000))\n",
    "plt.yticks(np.arange(0, 61, 20))\n",
    "plt.xticks(fontsize=14)\n",
    "plt.yticks(fontsize=14)\n",
    "plt.xlabel(\"confined motion count\", fontsize=18)\n",
    "plt.ylabel(\"confined motion $t_{c}$ avg (s)\", fontsize=18)\n",
    "plt.legend([\"uni\", \"bi\", \"2-way\", \"3-way\", \"4-way\"], loc='lower right', fontsize=12) "
   ]
  },
  {
   "cell_type": "code",
   "execution_count": null,
   "id": "d934ae51",
   "metadata": {},
   "outputs": [],
   "source": [
    "df_tendency = record_3[[\"count_parallel\",\"count_confined\", \"tc_confined\", \"tc_all\"]].copy()\n",
    "print(df_tendency.head(10))"
   ]
  },
  {
   "cell_type": "code",
   "execution_count": null,
   "id": "d8b411c5",
   "metadata": {},
   "outputs": [],
   "source": [
    "import seaborn as sns\n",
    "#\n",
    "labels = [\"parallel\", \"confined\", \"tc_confined\", \"tc_all\"]\n",
    "#\n",
    "corr_matrix = df_tendency.corr()\n",
    "mask = np.zeros_like(corr_matrix, dtype=bool)\n",
    "mask[np.triu_indices_from(mask)] = True\n",
    "#\n",
    "# ax = sns.heatmap(corr_matrix, mask=mask, xticklabels=labels_x, yticklabels=labels_x, cmap=\"Blues\", annot=True, annot_kws={\"size\": 18}, vmin=0.5, vmax=1.0)\n",
    "ax = sns.heatmap(corr_matrix, mask=mask, xticklabels=labels, yticklabels=labels, cmap = \"YlGn\", annot=True, annot_kws={\"size\": 18}, vmin=0.5, vmax=1.0)\n",
    "cbar = ax.collections[0].colorbar\n",
    "cbar.ax.tick_params(labelsize=14)\n",
    "ax.set_xticklabels(ax.get_xmajorticklabels(), fontsize = 14, rotation=45)\n",
    "ax.set_yticklabels(ax.get_xmajorticklabels(), fontsize = 14, rotation=0)\n",
    "plt.show()"
   ]
  },
  {
   "cell_type": "code",
   "execution_count": null,
   "id": "30686713",
   "metadata": {},
   "outputs": [],
   "source": []
  }
 ],
 "metadata": {
  "kernelspec": {
   "display_name": "Python 3 (ipykernel)",
   "language": "python",
   "name": "python3"
  },
  "language_info": {
   "codemirror_mode": {
    "name": "ipython",
    "version": 3
   },
   "file_extension": ".py",
   "mimetype": "text/x-python",
   "name": "python",
   "nbconvert_exporter": "python",
   "pygments_lexer": "ipython3",
   "version": "3.9.13"
  }
 },
 "nbformat": 4,
 "nbformat_minor": 5
}
