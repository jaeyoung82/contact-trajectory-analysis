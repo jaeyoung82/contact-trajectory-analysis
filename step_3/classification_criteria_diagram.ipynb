{
 "cells": [
  {
   "cell_type": "code",
   "execution_count": null,
   "id": "d58e616a",
   "metadata": {},
   "outputs": [],
   "source": [
    "import pandas as pd\n",
    "import numpy as np\n",
    "import matplotlib.pyplot as plt\n",
    "%matplotlib inline"
   ]
  },
  {
   "cell_type": "code",
   "execution_count": null,
   "id": "2685efdb",
   "metadata": {},
   "outputs": [],
   "source": [
    "# boundary in (H, E) space\n",
    "boundary_ballistic = [[0.27, 0], [0.27, 1]] # H <= 0.27\n",
    "boundary_confined  = [[0.27, 0.09], [1, 0.09]] # H > 0.27, E = 0.09\n",
    "\n",
    "x_1 = [x[0] for x in boundary_ballistic]\n",
    "y_1 = [x[1] for x in boundary_ballistic]\n",
    "x_2 = [x[0] for x in boundary_confined]\n",
    "y_2 = [x[1] for x in boundary_confined]\n"
   ]
  },
  {
   "cell_type": "code",
   "execution_count": null,
   "id": "eb2d1244",
   "metadata": {},
   "outputs": [],
   "source": [
    "#\n",
    "n_columns = 1\n",
    "n_rows    = 1   \n",
    "subplot_x = 5.0\n",
    "subplot_y = 5.0\n",
    "figsize_x = subplot_x*n_columns\n",
    "figsize_y = subplot_y*n_rows\n",
    "fig = plt.figure(figsize = (figsize_x, figsize_y))      \n",
    "ax = fig.add_subplot(1, 1, 1)\n",
    "#\n",
    "plt.plot(x_1, y_1, 'black', linestyle='dashed', alpha = 0.7)\n",
    "plt.plot(x_2, y_2, 'black', linestyle='dashed', alpha = 0.7)\n",
    "#\n",
    "#adding text inside the plot \n",
    "# plt.text(0.03, 0.35, \"Confined motion\", fontsize = 15, color='red', rotation=90.) \n",
    "# plt.text(0.2, 0.10, \"Ballistic motion\", fontsize = 20, color='blue') \n",
    "plt.text(0.1, 0.25, \"Ballistic motion\", fontsize = 20, color='blue', rotation=90.) \n",
    "plt.text(0.32, 0.50, \"Sub-ballistic motion\", fontsize = 18, color='green') \n",
    "plt.text(0.4, 0.02, \"Confined motion\", fontsize = 15, color='red') \n",
    "#\n",
    "plt.xlim(0, 1)\n",
    "plt.ylim(0, 1)\n",
    "plt.xticks(fontsize=16)\n",
    "plt.yticks(fontsize=16)\n",
    "plt.xlabel(\"Entropy $\\mathregular{H}$\", fontsize=20)\n",
    "plt.ylabel(\"Efficiency $\\mathregular{E}$\", fontsize=20)\n",
    "# plt.legend([\"$\\kappa = 0$\", \"$\\kappa = 50$\", \"$\\kappa = 100$\", \"$\\kappa = 200$\", \"$\\kappa = 500$\"], fontsize=12) "
   ]
  }
 ],
 "metadata": {
  "kernelspec": {
   "display_name": "Python 3 (ipykernel)",
   "language": "python",
   "name": "python3"
  },
  "language_info": {
   "codemirror_mode": {
    "name": "ipython",
    "version": 3
   },
   "file_extension": ".py",
   "mimetype": "text/x-python",
   "name": "python",
   "nbconvert_exporter": "python",
   "pygments_lexer": "ipython3",
   "version": "3.9.13"
  }
 },
 "nbformat": 4,
 "nbformat_minor": 5
}
