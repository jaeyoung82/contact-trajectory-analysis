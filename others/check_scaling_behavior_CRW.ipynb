{
 "cells": [
  {
   "cell_type": "code",
   "execution_count": null,
   "id": "8933ee4c",
   "metadata": {},
   "outputs": [],
   "source": [
    "import pandas as pd\n",
    "import numpy as np\n",
    "from scipy.optimize import curve_fit\n",
    "import matplotlib.pyplot as plt\n",
    "%matplotlib inline\n"
   ]
  },
  {
   "cell_type": "code",
   "execution_count": null,
   "id": "49cbc66b",
   "metadata": {},
   "outputs": [],
   "source": [
    "from numpy import finfo\n",
    "epsilon = finfo(float).eps\n",
    "print(epsilon)"
   ]
  },
  {
   "cell_type": "code",
   "execution_count": null,
   "id": "f688aa35",
   "metadata": {},
   "outputs": [],
   "source": [
    "readfile_name = \"net_distance_CRW.txt\"\n",
    "print (\"read \", readfile_name)\n",
    "columns = [\"kappa\", \"n_steps\", \"d_net\", \"d_path\"]\n",
    "record_raw = pd.read_csv(readfile_name, sep= \"\\t\", names = columns, skiprows = 1) "
   ]
  },
  {
   "cell_type": "code",
   "execution_count": null,
   "id": "1ce2b109",
   "metadata": {},
   "outputs": [],
   "source": [
    "def function_power(x, a, b):\n",
    "    return a * np.power(x, b)\n",
    "\n",
    "def function_linear(x, a, b):\n",
    "    return a + x * b\n",
    "\n",
    "def curve_fit_log(xdata, ydata):\n",
    "    # convert data to log scale\n",
    "    xdata_log = np.log10(xdata)\n",
    "    ydata_log = np.log10(ydata)\n",
    "    #\n",
    "    # fit linear\n",
    "    # popt: optimal parameter values\n",
    "    # pcov: estimated approximate covariance of popt\n",
    "    #\n",
    "    popt_log, pcov_log = curve_fit(function_linear, xdata_log, ydata_log)\n",
    "    # print(popt_log, pcov_log)\n",
    "    ydatafit_log = np.power(10, function_linear(xdata_log, *popt_log))\n",
    "    #\n",
    "    return (popt_log, pcov_log, ydatafit_log)"
   ]
  },
  {
   "cell_type": "code",
   "execution_count": null,
   "id": "c7e292d9",
   "metadata": {},
   "outputs": [],
   "source": [
    "kappa_set = record_raw[\"kappa\"].unique()\n",
    "#\n",
    "for i in range (0, len(kappa_set)):\n",
    "    #\n",
    "    kappa = kappa_set[i]\n",
    "    record_i = record_raw[(record_raw[\"kappa\"]==kappa)]\n",
    "    n_steps = record_i[\"n_steps\"]\n",
    "    d_path  = record_i[\"d_path\"]\n",
    "    d_net   = record_i[\"d_net\"]**2\n",
    "    #\n",
    "    popt_log, pcov_log, ydatafit_log = curve_fit_log(d_path, d_net)\n",
    "    exponent_i = popt_log[1]\n",
    "    print(str(kappa)+\"\\t{:.3f}\".format(exponent_i))"
   ]
  },
  {
   "cell_type": "code",
   "execution_count": null,
   "id": "42f9db11",
   "metadata": {},
   "outputs": [],
   "source": [
    "kappa_set = record_raw[\"kappa\"].unique()\n",
    "#\n",
    "for i in range (0, len(kappa_set)):\n",
    "    #\n",
    "    kappa = kappa_set[i]\n",
    "    record_i = record_raw[(record_raw[\"kappa\"]==kappa)]\n",
    "    n_steps = record_i[\"n_steps\"]\n",
    "    d_path  = record_i[\"d_path\"]\n",
    "    d_net   = record_i[\"d_net\"]\n",
    "    #\n",
    "    popt_log, pcov_log, ydatafit_log = curve_fit_log(d_path, d_net)\n",
    "    exponent_i = popt_log[1]\n",
    "    print(str(kappa)+\"\\t{:.3f}\".format(exponent_i))\n",
    "#\n",
    "#\n",
    "kappa_selected = [0, 50, 100, 300, 500]\n",
    "marker_set = [\"X\", \"^\", \"s\", \"o\", \"D\"]\n",
    "color_set  = [\"c\", \"g\", \"b\", \"r\", \"k\"]\n",
    "#\n",
    "n_columns = 1\n",
    "n_rows    = 1   \n",
    "subplot_x = 7.0\n",
    "subplot_y = 7.0\n",
    "figsize_x = subplot_x*n_columns\n",
    "figsize_y = subplot_y*n_rows\n",
    "fig = plt.figure(figsize = (figsize_x, figsize_y))      \n",
    "ax = fig.add_subplot(1, 1, 1)\n",
    "#\n",
    "for i in range (0, len(kappa_selected)):\n",
    "    #\n",
    "    kappa = kappa_selected[i]\n",
    "    record_i = record_raw[(record_raw[\"kappa\"]==kappa)]\n",
    "    n_steps = record_i[\"n_steps\"]\n",
    "    d_path  = record_i[\"d_path\"]\n",
    "    d_net   = record_i[\"d_net\"]\n",
    "    #    \n",
    "    plt.scatter(d_path, d_net, s=150, facecolors='none', edgecolors=color_set[i], marker = marker_set[i], linewidths=2, alpha=.7)\n",
    "plt.xlim(1, 1200)\n",
    "plt.ylim(1, 1200)\n",
    "plt.xscale('log')\n",
    "plt.yscale('log')\n",
    "plt.xticks(fontsize=16)\n",
    "plt.yticks(fontsize=16)\n",
    "plt.xlabel(\"avg. trajectory length $\\mathregular{<l>}$\", fontsize=20)\n",
    "plt.ylabel(\"avg. net displacement $\\mathregular{<L>}$\", fontsize=20)\n",
    "plt.legend([\"$\\kappa = 0$\", \"$\\kappa = 50$\", \"$\\kappa = 100$\", \"$\\kappa = 300$\", \"$\\kappa = 500$\"], fontsize=12) "
   ]
  }
 ],
 "metadata": {
  "kernelspec": {
   "display_name": "Python 3 (ipykernel)",
   "language": "python",
   "name": "python3"
  },
  "language_info": {
   "codemirror_mode": {
    "name": "ipython",
    "version": 3
   },
   "file_extension": ".py",
   "mimetype": "text/x-python",
   "name": "python",
   "nbconvert_exporter": "python",
   "pygments_lexer": "ipython3",
   "version": "3.9.13"
  }
 },
 "nbformat": 4,
 "nbformat_minor": 5
}
